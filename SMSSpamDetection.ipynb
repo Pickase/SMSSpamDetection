{
 "cells": [
  {
   "cell_type": "code",
   "execution_count": 1,
   "id": "f9fbc043",
   "metadata": {},
   "outputs": [
    {
     "name": "stdout",
     "output_type": "stream",
     "text": [
      "Model Accuracy: 0.9668161434977578\n",
      "Prediction for 'Congratulations! You've won a free cruise to the Bahamas. Click here to claim your prize.': spam\n",
      "Prediction for 'Hey, are we still on for dinner tonight?': ham\n"
     ]
    }
   ],
   "source": [
    "import pandas as pd\n",
    "from sklearn.feature_extraction.text import TfidfVectorizer\n",
    "from sklearn.naive_bayes import MultinomialNB\n",
    "from sklearn.metrics import accuracy_score\n",
    "from sklearn.model_selection import train_test_split\n",
    "\n",
    "# Load the dataset\n",
    "# The dataset is expected to be a tab-separated file named 'SMSSpamCollection'\n",
    "try:\n",
    "    df = pd.read_csv('SMSSpamCollection', sep='\\t', names=['label', 'text'])\n",
    "except FileNotFoundError:\n",
    "    print(\"Error: 'SMSSpamCollection' not found.\")\n",
    "    print(\"Please make sure the dataset file is in the same directory as the script.\")\n",
    "    exit()\n",
    "\n",
    "# Map labels to numerical values\n",
    "df['label'] = df['label'].map({'ham': 0, 'spam': 1})\n",
    "\n",
    "# Split the data into training and testing sets\n",
    "X_train, X_test, y_train, y_test = train_test_split(df['text'], df['label'], test_size=0.2, random_state=42)\n",
    "\n",
    "# Create a TF-IDF vectorizer\n",
    "vectorizer = TfidfVectorizer()\n",
    "\n",
    "# Vectorize the training data\n",
    "X_train_vectorized = vectorizer.fit_transform(X_train)\n",
    "\n",
    "# Initialize the Multinomial Naive Bayes model\n",
    "model = MultinomialNB()\n",
    "\n",
    "# Train the model\n",
    "model.fit(X_train_vectorized, y_train)\n",
    "\n",
    "# Vectorize the test data\n",
    "X_test_vectorized = vectorizer.transform(X_test)\n",
    "\n",
    "# Make predictions on the test data\n",
    "y_pred = model.predict(X_test_vectorized)\n",
    "\n",
    "# Calculate and print the accuracy\n",
    "accuracy = accuracy_score(y_test, y_pred)\n",
    "print(f'Model Accuracy: {accuracy}')\n",
    "\n",
    "# Example prediction\n",
    "def predict_sms(text):\n",
    "    text_vectorized = vectorizer.transform([text])\n",
    "    prediction = model.predict(text_vectorized)\n",
    "    return \"spam\" if prediction[0] == 1 else \"ham\"\n",
    "\n",
    "# Test with some examples\n",
    "example_spam = \"Congratulations! You've won a free cruise to the Bahamas. Click here to claim your prize.\"\n",
    "example_ham = \"Hey, are we still on for dinner tonight?\"\n",
    "\n",
    "print(f\"Prediction for '{example_spam}': {predict_sms(example_spam)}\")\n",
    "print(f\"Prediction for '{example_ham}': {predict_sms(example_ham)}\")\n"
   ]
  }
 ],
 "metadata": {
  "kernelspec": {
   "display_name": "base",
   "language": "python",
   "name": "python3"
  },
  "language_info": {
   "codemirror_mode": {
    "name": "ipython",
    "version": 3
   },
   "file_extension": ".py",
   "mimetype": "text/x-python",
   "name": "python",
   "nbconvert_exporter": "python",
   "pygments_lexer": "ipython3",
   "version": "3.13.5"
  }
 },
 "nbformat": 4,
 "nbformat_minor": 5
}
